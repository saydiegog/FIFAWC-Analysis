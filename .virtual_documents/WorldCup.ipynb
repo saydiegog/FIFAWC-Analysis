import pandas as pd
import numpy as np
import matplotlib.pyplot as plt
get_ipython().run_line_magic("matplotlib", " inline ")


#Reading CSV
df = pd.read_csv('FifaWorldCup/matches_1930_2022.csv')

# Display first 5 rows to verify loading
df.head()


sorted_df = df.sort_values("Year", ascending=True)

sorted_df.head(30)


sorted_df = df.sort_values('Year', ascending=True).reset_index(drop=True)


sorted_df.head()


sorted_df.columns





#Calculating wins, loses and draws for each Team
home_wins = sorted_df[sorted_df["home_score"] > sorted_df["away_score"]]["home_team"].value_counts()
away_wins = sorted_df[sorted_df["away_score"] > sorted_df["home_score"]]["away_team"].value_counts()
#Sum of home + away wins, making sure NaN are getting calculated as 0
total_wins = home_wins.add(away_wins, fill_value = 0)

#Calculating matches played per National Team
home_matches = sorted_df["home_team"].value_counts()
away_matches = sorted_df["away_team"].value_counts()
#Sum of home + away matches, making sure NaN are getting calculated as 0
total_matches = home_matches.add(away_matches, fill_value = 0)

#Calculating win ratio and showing the top 15 National Teams
win_ratio = (total_wins / total_matches).sort_values(ascending=False)

#Filtering teams with at least 20 matches to avoid small-sample outliers
win_ratio = win_ratio[total_matches >= 20].head(15)

#Bubble plot setup (AI Generated setup)
teams = win_ratio.index
x = total_matches[teams]  # Experience (matches played)
y = win_ratio * 100       # Performance (win %)
s = total_wins[teams]     # Success (total wins, for bubble size)

# Create bubble plot
plt.figure(figsize=(14, 8))
scatter = plt.scatter(x, y, s=s*2, alpha=0.6, c=np.arange(len(teams)), cmap='viridis')

# Add labels and annotations
plt.xlabel('Total Matches Played', fontsize=12)
plt.ylabel('Win Ratio (%)', fontsize=12)
plt.title('World Cup Best Performers', fontsize=14, pad=20)

# Annotate each bubble with team name
for i, team in enumerate(teams):
    plt.annotate(team, (x[i], y[i]), 
                 textcoords="offset points", 
                 xytext=(0,5), 
                 ha='center', 
                 fontsize=9)

# Add legend for bubble sizes
kw = dict(prop="sizes", num=5, color=scatter.cmap(0.7), fmt="{x:.0f}")
legend = plt.legend(*scatter.legend_elements(**kw),
                    loc="lower right", 
                    title="Total Wins",
                    bbox_to_anchor=(1.25, 0))

# Style adjustments
plt.grid(True, linestyle='--', alpha=0.3)
plt.xlim(x.min()-5, x.max()+5)
plt.ylim(y.min()-5, y.max()+5)

plt.tight_layout()
plt.show()






#Calculating goals scored per match
sorted_df["total_goals"] = sorted_df["home_score"] + sorted_df["away_score"]

#Group goals by year of competition and calculate the mean
goals_per_edition = sorted_df.groupby("Year")["total_goals"].mean()

#Plot
goals_per_edition.plot(title="Average Goals per Match over FIFA WC History")
plt.ylabel("Average goals per match")
plt.show()





#Filtering matches that went to penalties
penalty_matches = sorted_df[sorted_df["home_penalty"].notna() | sorted_df["away_penalty"].notna()]


#Count penalty wins
home_penalty_wins = penalty_matches[penalty_matches["home_penalty"] > penalty_matches["away_penalty"]]["home_team"].value_counts()
away_penalty_wins = penalty_matches[penalty_matches["away_penalty"] > penalty_matches["home_penalty"]]["home_team"].value_counts()
total_penalty_wins = home_penalty_wins.add(away_penalty_wins, fill_value = 0)


# Bar Plot
total_penalty_wins.sort_values(ascending=False).head(10).plot(kind="bar", title="Best National Teams at Penalty Shootout in WC History")
plt.ylabel("Penalty Wins")
plt.show()





#Calculate home and away win rate
home_win_rate = (sorted_df["home_score"] > sorted_df["away_score"]).mean() * 100
away_win_rate = (sorted_df["home_score"] < sorted_df["away_score"]).mean() * 100

#Calculate draw rate
draw_rate = (sorted_df["home_score"] == sorted_df["away_score"]).mean() * 100


# Pie chart plot (AI Setup)
# Data for the pie chart
labels = ['Home Wins', 'Away Wins', 'Draws']
sizes = [home_win_rate, away_win_rate, draw_rate]
colors = ['#66b3ff', '#ff9999', '#99ff99']
explode = (0.1, 0, 0)  # Explode the "Home Wins" slice

# Create pie chart
plt.figure(figsize=(8, 8))
plt.pie(sizes, 
        explode=explode, 
        labels=labels, 
        colors=colors,
        autopct='%1.1f%%',
        shadow=True, 
        startangle=90,
        textprops={'fontsize': 12})

plt.title('Win Rates: Is there an advantage playing as Home/Away?', fontsize=14, pad=20)
plt.axis('equal')  # Equal aspect ratio ensures pie is circular
plt.show()



