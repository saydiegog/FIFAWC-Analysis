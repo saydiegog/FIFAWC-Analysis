


import pandas as pd
import matplotlib.pyplot as plt
import numpy as np


#Reading dataset
df = pd.read_csv("matches_1930_2022.csv")

#Let's print some rows to verify everything is ok
df.columns





#Getting scores from each National Team, as home and away team, and match count
#Home scores and matches
home_score = df.groupby("home_team")["home_score"].sum()
home_matches = df.groupby("home_team").size()

#away scores and matches 
away_score = df.groupby("away_team")["away_score"].sum()
away_matches = df.groupby("away_team").size()

#Now lets merge these series to get more relevant info
NT_scores = home_score.add(away_score, fill_value = 0).sort_values(ascending=False) # Adding a 0 instead of a nill value so sum is correct
NT_matches_count = home_matches.add(away_matches, fill_value = 0)

#Getting rid of teams that have played less than 40 matches as they are probably outliers
Filtered_NT_matches_count = NT_matches_count[NT_matches_count > 40].sort_values(ascending=False)

#Calculating Average goal score per match
goal_avg = (NT_scores / Filtered_NT_matches_count).sort_values(ascending = False)
filtered_goal_avg = goal_avg[Filtered_NT_matches_count.index].sort_values(ascending = False)


plt.barh(goal_avg.index, goal_avg.values, color='skyblue')
plt.title('Average Goals per Match', fontsize=16)
plt.xlabel('Average Goals per Match', fontsize=12)
plt.ylabel('Team', fontsize=12)
plt.tight_layout()
plt.show()






#Calculating home and away goals per match per team
avg_home_goals = home_score / home_matches
avg_away_goals = away_score / away_matches

teams = avg_home_goals.index.intersection(avg_away_goals.index)
avg_home_goals = avg_home_goals[teams]
avg_away_goals = avg_away_goals[teams]

#Pick top 20 teams by total average goals (home + away)
combined_avg = avg_home_goals + avg_away_goals
top_teams = combined_avg.sort_values(ascending=False).head(20).index

# Filter for those top teams
home_vals = avg_home_goals[top_teams]
away_vals = avg_away_goals[top_teams]



x = range(len(top_teams))
bar_width = 0.4

plt.figure(figsize=(14, 6))
plt.bar([i - bar_width/2 for i in x], home_vals, width=bar_width, label='Home Avg', color='dodgerblue')
plt.bar([i + bar_width/2 for i in x], away_vals, width=bar_width, label='Away Avg', color='orange')

# Labels and titles
plt.xticks(ticks=x, labels=top_teams, rotation=45, ha='right')
plt.ylabel("Average Goals per Match")
plt.title("Top 20 Teams: Home vs Away Goal Averages")
plt.legend()
plt.tight_layout()
plt.show()





#Calculating home, away wins + draws for each National Team
home_wins = df[df["home_score"] > df["away_score"]]["home_team"].value_counts()
away_wins = df[df["home_score"] < df["away_score"]]["away_team"].value_counts()
draws = df[df["home_score"] == df["away_score"]]["home_team"].value_counts()

#Calculating total matches played per NT
Total_matches = home_wins + away_wins + draws

#Since we already have home/away matches count lets leverage them
home_win_ratio = home_wins / home_matches
away_win_ratio = away_wins / away_matches



avg_home_win_ratio = home_win_ratio.mean()
avg_away_win_ratio = away_win_ratio.mean()

plt.bar(["Home", "Away"], [avg_home_win_ratio, avg_away_win_ratio], color=["skyblue", "lightcoral"])
plt.ylabel("Average Win Ratio")
plt.title("Is There a Home Advantage in WC matches?")
plt.ylim(0, 1)
plt.grid(axis='y', linestyle='--', alpha=0.5)
plt.tight_layout()
plt.show()


# Sum the total number of each outcome
home_total = home_wins.sum()
away_total = away_wins.sum()
draw_total = draws.sum()

# Labels and sizes
labels = ['Home Wins', 'Away Wins', 'Draws']
sizes = [home_total, away_total, draw_total]
colors = ['skyblue', 'lightcoral', 'lightgray']

# Plot
plt.figure(figsize=(8, 8))
plt.pie(sizes, labels=labels, colors=colors, autopct='%1.1f%%', startangle=140)
plt.title('Match Outcomes: Home Wins vs Away Wins vs Draws')
plt.axis('equal')  # Ensures pie is a circle
plt.tight_layout()
plt.show()





#Getting rid of teams that have played less than 30 matches as they could be outliers
min_matches = 30
filtered_total_matches = Total_matches[Total_matches >= min_matches]

#Calculating win ratio per NT
win_ratio = (home_wins + away_wins/ filtered_total_matches).sort_values(ascending=False)



import matplotlib.pyplot as plt

# Make sure all Series are aligned and filtered (e.g., min 30 matches)
teams = win_ratio.index
x = range(len(teams))  # positions on x-axis
y = win_ratio.values
sizes = Total_matches[teams].values * 100  # Scale sizes as needed

plt.figure(figsize=(15, 15))
scatter = plt.scatter(x, y, s=sizes, alpha=0.3, edgecolors='black', color='lightgreen')

# Add team names inside the bubbles
for i, team in enumerate(teams):
    plt.text(x[i], y[i], team, ha='center', va='center', fontsize=12, weight='bold')

plt.xticks([])  # Remove x-axis labels since team names are inside bubbles
plt.ylabel("Win Ratio %")
plt.title("Top 10 National Teams with best win ratio in WC History")
plt.grid(True, linestyle='--', alpha=0.4)
plt.tight_layout()
plt.show()






#Calculating all goals per match per year
home_goals_sum = df.groupby("Year")["home_score"].sum()
away_goals_sum = df.groupby("Year")["away_score"].sum()
goalsxyear = home_goals_sum + away_goals_sum

#Calculating how many matches there have been per year
matches_per_year = df.groupby("Year").size()

avg_goalsxyear = goalsxyear / matches_per_year
print(avg_goalsxyear)


plt.figure(figsize=(8, 4))
plt.plot(avg_goalsxyear.index, avg_goalsxyear.values,
         color='royalblue', linestyle='-', linewidth=2, marker='o',
         markersize=8, markerfacecolor='white', markeredgewidth=2, markeredgecolor='royalblue')

# Labels and title
plt.title("Goal Average Per Match Throughout WC History (1930–2022)", fontsize=16)
plt.xticks(avg_goalsxyear.index, rotation=45)
plt.ylabel("Average Goals per Match", fontsize=12)
plt.grid(True, linestyle='--', alpha=0.5)
plt.tight_layout()
plt.show()





#Getting matches that went into penalty shootouts 
penalty_matches = df[df["Notes"].str.contains("won on penalty kicks following extra time", na=False)]

#Getting home team wins in penalty shootouts
home_pen_wins = penalty_matches[penalty_matches["home_penalty"] > penalty_matches["away_penalty"]]
home_pen_wins = home_pen_wins["home_team"].value_counts()

#Getting away team wins in penalty shootouts
away_pen_wins = penalty_matches[penalty_matches["away_penalty"] > penalty_matches["home_penalty"]]
away_pen_wins = away_pen_wins["away_team"].value_counts()

pen_wins = home_pen_wins.add(away_pen_wins, fill_value = 0).sort_values(ascending=False)

pen_wins = pen_wins.head(10)


plt.figure(figsize=(10, 8))
plt.barh(pen_wins.index, pen_wins.values, color='mediumseagreen')
plt.xlabel("Penalty Shootout Wins")
plt.title("Top National Teams in Penalty Shootouts")
plt.grid(axis='x', linestyle='--', alpha=0.5)
plt.tight_layout()
plt.show()

